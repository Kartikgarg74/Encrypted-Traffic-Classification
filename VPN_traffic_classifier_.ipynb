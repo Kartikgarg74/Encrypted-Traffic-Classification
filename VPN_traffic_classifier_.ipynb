{
  "nbformat": 4,
  "nbformat_minor": 0,
  "metadata": {
    "colab": {
      "provenance": []
    },
    "kernelspec": {
      "name": "python3",
      "display_name": "Python 3"
    },
    "language_info": {
      "name": "python"
    }
  },
  "cells": [
    {
      "cell_type": "markdown",
      "source": [
        "##Data entry and cleaning"
      ],
      "metadata": {
        "id": "hKID1GIgbKwe"
      }
    },
    {
      "cell_type": "code",
      "source": [
        "import numpy as np\n",
        "import pandas as pd\n",
        "from sklearn.preprocessing import MinMaxScaler\n",
        "from sklearn.model_selection import train_test_split\n",
        "from keras.utils import to_categorical\n",
        "# Load the CSV file\n",
        "data_df = pd.read_csv('/content/drive/MyDrive/Scenario-B-merged_5s.csv')\n",
        "data_df.columns = data_df.columns.str.strip()\n",
        "\n",
        "# Clean the data (to remove the infinite and NaN values from the dataset)\n",
        "data_df = data_df.replace([np.inf, -np.inf], np.nan)\n",
        "data_df.dropna(inplace=True)\n",
        "\n",
        "# Filter labels of interest\n",
        "desired_labels = ['VOIP', 'VIDEO', 'FILE-TRANSFER', 'CHAT', 'BROWSING']\n",
        "data_df = data_df[data_df['label'].isin(desired_labels)]\n",
        "data_df.shape"
      ],
      "metadata": {
        "id": "APi7Q9QytjS9",
        "colab": {
          "base_uri": "https://localhost:8080/"
        },
        "outputId": "635e1f49-1248-4a5d-f0df-dd5d83bc7d58"
      },
      "execution_count": null,
      "outputs": [
        {
          "output_type": "execute_result",
          "data": {
            "text/plain": [
              "(10845, 29)"
            ]
          },
          "metadata": {},
          "execution_count": 11
        }
      ]
    },
    {
      "cell_type": "markdown",
      "source": [
        "##Functions for Data pre-processing"
      ],
      "metadata": {
        "id": "G4yT3ioCbQwZ"
      }
    },
    {
      "cell_type": "code",
      "source": [
        "# Define a function to extract numerical features\n",
        "def extract_numerical_features(df):\n",
        "    numerical_features = df.select_dtypes(include=[np.number])\n",
        "    #print(\"These are numerical features \\n\",numerical_features.head(1))\n",
        "    return numerical_features\n",
        "\n",
        "# Group packets into Packet Blocks\n",
        "def aggregate_packets(df, block_size):\n",
        "    grouped = df.groupby(['Source IP', 'Source Port', 'Destination IP', 'Destination Port', 'Protocol'])\n",
        "    #groupby command return (name, group)\n",
        "    #name contains the values of 'Source IP', 'Source Port', 'Destination IP', 'Destination Port', 'Protocol'\n",
        "    #group is a subset of the dataset that stores the value corresponding to the name\n",
        "    packet_blocks = []\n",
        "    labels = []\n",
        "\n",
        "    # Lists to store the first five entries of name and group\n",
        "    name_list = []\n",
        "    group_list = []\n",
        "\n",
        "    for name, group in grouped:\n",
        "        # Store the first five names and groups\n",
        "        if len(name_list) < 5:\n",
        "            name_list.append(name)\n",
        "            group_list.append(group.head(2))  # Store only the first few rows of the group\n",
        "\n",
        "        packets = extract_numerical_features(group).values\n",
        "        for i in range(0, len(packets), block_size): #range(Starting_point, ending_point, intercept)\n",
        "            block = packets[i:i + block_size]\n",
        "            if len(block) == block_size:\n",
        "                packet_blocks.append(block.flatten())\n",
        "                labels.append(group['label'].iloc[0])\n",
        "\n",
        "    # Print the first five names and groups\n",
        "    print(\"Top 5 Names:\")\n",
        "    for n in name_list:\n",
        "        print(n)\n",
        "\n",
        "    print(\"\\nTop 5 Groups:\")\n",
        "    for g in group_list:\n",
        "        print(g)\n",
        "    print(len(labels))\n",
        "    return np.array(packet_blocks), np.array(labels)\n"
      ],
      "metadata": {
        "id": "GZmBNRCyxWkp"
      },
      "execution_count": null,
      "outputs": []
    },
    {
      "cell_type": "markdown",
      "source": [
        "##Printing the values of top 5 entries in the group and name"
      ],
      "metadata": {
        "id": "LSo3PTFF12Sq"
      }
    },
    {
      "cell_type": "code",
      "source": [
        "\n",
        "K = 50  # It is the aggregation degree thus can be used as the block size\n",
        "packet_blocks, labels = aggregate_packets(data_df, K)"
      ],
      "metadata": {
        "colab": {
          "base_uri": "https://localhost:8080/"
        },
        "id": "8Svwmd58uhHn",
        "outputId": "7ea935d5-4d6a-4d85-e4cd-cf6e94e8f1f3"
      },
      "execution_count": null,
      "outputs": [
        {
          "output_type": "stream",
          "name": "stdout",
          "text": [
            "<pandas.core.groupby.generic.DataFrameGroupBy object at 0x7c2246b08d00>\n",
            "Top 5 Names:\n",
            "('10.0.2.15', 33071, '195.154.126.78', 443, 6)\n",
            "('10.0.2.15', 33308, '195.154.126.78', 443, 6)\n",
            "('10.0.2.15', 33827, '82.161.239.177', 110, 6)\n",
            "('10.0.2.15', 34328, '198.52.200.39', 443, 6)\n",
            "('10.0.2.15', 34361, '5.9.123.81', 9001, 6)\n",
            "\n",
            "Top 5 Groups:\n",
            "      Source IP  Source Port  Destination IP  Destination Port  Protocol  \\\n",
            "3095  10.0.2.15        33071  195.154.126.78               443         6   \n",
            "3113  10.0.2.15        33071  195.154.126.78               443         6   \n",
            "\n",
            "      Flow Duration  Flow Bytes/s  Flow Packets/s  Flow IAT Mean  \\\n",
            "3095        1107532  17962.460678       34.310521   29933.297297   \n",
            "3113         391763  13564.323328       30.630764   35614.818182   \n",
            "\n",
            "      Flow IAT Std  ...  Bwd IAT Min  Active Mean  Active Std  Active Max  \\\n",
            "3095  62747.732625  ...            5            0           0           0   \n",
            "3113  60733.911802  ...          192            0           0           0   \n",
            "\n",
            "      Active Min  Idle Mean  Idle Std  Idle Max  Idle Min     label  \n",
            "3095           0          0         0         0         0  BROWSING  \n",
            "3113           0          0         0         0         0  BROWSING  \n",
            "\n",
            "[2 rows x 29 columns]\n",
            "      Source IP  Source Port  Destination IP  Destination Port  Protocol  \\\n",
            "3636  10.0.2.15        33308  195.154.126.78               443         6   \n",
            "\n",
            "      Flow Duration   Flow Bytes/s  Flow Packets/s  Flow IAT Mean  \\\n",
            "3636        2555398  272331.355037      318.932706    3139.309582   \n",
            "\n",
            "      Flow IAT Std  ...  Bwd IAT Min  Active Mean  Active Std  Active Max  \\\n",
            "3636  19768.540085  ...            0            0           0           0   \n",
            "\n",
            "      Active Min  Idle Mean  Idle Std  Idle Max  Idle Min     label  \n",
            "3636           0          0         0         0         0  BROWSING  \n",
            "\n",
            "[1 rows x 29 columns]\n",
            "      Source IP  Source Port  Destination IP  Destination Port  Protocol  \\\n",
            "1310  10.0.2.15        33827  82.161.239.177               110         6   \n",
            "1311  10.0.2.15        33827  82.161.239.177               110         6   \n",
            "\n",
            "      Flow Duration  Flow Bytes/s  Flow Packets/s  Flow IAT Mean  \\\n",
            "1310        4957659  40023.123817       62.327804   16096.295455   \n",
            "1311        4971111  31849.821901       56.928924   17628.053191   \n",
            "\n",
            "      Flow IAT Std  ...  Bwd IAT Min  Active Mean  Active Std  Active Max  \\\n",
            "1310  42445.675395  ...            0            0           0           0   \n",
            "1311  52439.582796  ...            8            0           0           0   \n",
            "\n",
            "      Active Min  Idle Mean  Idle Std  Idle Max  Idle Min     label  \n",
            "1310           0          0         0         0         0  BROWSING  \n",
            "1311           0          0         0         0         0  BROWSING  \n",
            "\n",
            "[2 rows x 29 columns]\n",
            "      Source IP  Source Port Destination IP  Destination Port  Protocol  \\\n",
            "3638  10.0.2.15        34328  198.52.200.39               443         6   \n",
            "3639  10.0.2.15        34328  198.52.200.39               443         6   \n",
            "\n",
            "      Flow Duration  Flow Bytes/s  Flow Packets/s  Flow IAT Mean  \\\n",
            "3638         264023    4113.27801       15.150195   88007.666667   \n",
            "3639         432777    4951.74189       13.863953   86555.400000   \n",
            "\n",
            "       Flow IAT Std  ...  Bwd IAT Min  Active Mean  Active Std  Active Max  \\\n",
            "3638  152135.878610  ...       263679            0           0           0   \n",
            "3639  139190.180091  ...       112686            0           0           0   \n",
            "\n",
            "      Active Min  Idle Mean  Idle Std  Idle Max  Idle Min  label  \n",
            "3638           0          0         0         0         0   CHAT  \n",
            "3639           0          0         0         0         0   CHAT  \n",
            "\n",
            "[2 rows x 29 columns]\n",
            "      Source IP  Source Port Destination IP  Destination Port  Protocol  \\\n",
            "4130  10.0.2.15        34361     5.9.123.81              9001         6   \n",
            "4144  10.0.2.15        34361     5.9.123.81              9001         6   \n",
            "\n",
            "      Flow Duration   Flow Bytes/s  Flow Packets/s  Flow IAT Mean  \\\n",
            "4130        1816095  337608.440087      354.056368    2828.808411   \n",
            "4144         333729   36032.229743       68.918194   15169.500000   \n",
            "\n",
            "      Flow IAT Std  ...  Bwd IAT Min  Active Mean  Active Std  Active Max  \\\n",
            "4130  17783.546614  ...            2            0           0           0   \n",
            "4144  44797.890732  ...           63            0           0           0   \n",
            "\n",
            "      Active Min  Idle Mean  Idle Std  Idle Max  Idle Min          label  \n",
            "4130           0          0         0         0         0  FILE-TRANSFER  \n",
            "4144           0          0         0         0         0  FILE-TRANSFER  \n",
            "\n",
            "[2 rows x 29 columns]\n",
            "201\n"
          ]
        }
      ]
    },
    {
      "cell_type": "markdown",
      "source": [
        "##Print the shape and the 1st value of the labels and packet_blocks"
      ],
      "metadata": {
        "id": "QDbmmOZn1rUf"
      }
    },
    {
      "cell_type": "code",
      "source": [
        "print(labels[10])\n",
        "print(labels.shape)\n",
        "print(packet_blocks.shape)\n",
        "#as each iteration is flattened thus block_size * column_number here 50 * 26 = 1300 (not counting source port, destination port, labels)\n",
        "print(packet_blocks[10])\n",
        "#this shows that One packet block has one label"
      ],
      "metadata": {
        "colab": {
          "base_uri": "https://localhost:8080/"
        },
        "id": "KEzjGiCt0bC6",
        "outputId": "3cd1b493-ca1f-4a2f-9d81-14e359ef6dd2"
      },
      "execution_count": null,
      "outputs": [
        {
          "output_type": "stream",
          "name": "stdout",
          "text": [
            "FILE-TRANSFER\n",
            "(201,)\n",
            "(201, 1300)\n",
            "[3.6629e+04 4.4300e+02 6.0000e+00 ... 0.0000e+00 0.0000e+00 0.0000e+00]\n"
          ]
        }
      ]
    },
    {
      "cell_type": "code",
      "source": [
        "# Normalize the features in between (0,1)\n",
        "scaler = MinMaxScaler()\n",
        "packet_blocks_scaled = scaler.fit_transform(packet_blocks)\n",
        "packet_blocks_scaled.shape"
      ],
      "metadata": {
        "colab": {
          "base_uri": "https://localhost:8080/"
        },
        "id": "r5Fx7kt8umgw",
        "outputId": "1b8441ae-0a96-4a23-efed-e06b29af5759"
      },
      "execution_count": null,
      "outputs": [
        {
          "output_type": "execute_result",
          "data": {
            "text/plain": [
              "(201, 1300)"
            ]
          },
          "metadata": {},
          "execution_count": 10
        }
      ]
    },
    {
      "cell_type": "code",
      "source": [
        "# Calculate the number of features\n",
        "total_features = packet_blocks_scaled.shape[1]\n",
        "total_features"
      ],
      "metadata": {
        "id": "PwiTwWFO4wTR",
        "colab": {
          "base_uri": "https://localhost:8080/"
        },
        "outputId": "a8eacd03-4397-401d-c4ca-42cf89c7a81a"
      },
      "execution_count": null,
      "outputs": [
        {
          "output_type": "execute_result",
          "data": {
            "text/plain": [
              "1300"
            ]
          },
          "metadata": {},
          "execution_count": 25
        }
      ]
    },
    {
      "cell_type": "code",
      "source": [
        "# Ideally, M and N should be such that M * N = total_features\n",
        "M = 3000//K\n",
        "N = 60\n",
        "M,N"
      ],
      "metadata": {
        "colab": {
          "base_uri": "https://localhost:8080/"
        },
        "id": "5gOiq0Hc-gob",
        "outputId": "53824e26-adc6-4a7c-cffe-f4709cdac97c"
      },
      "execution_count": null,
      "outputs": [
        {
          "output_type": "execute_result",
          "data": {
            "text/plain": [
              "(60, 60)"
            ]
          },
          "metadata": {},
          "execution_count": 28
        }
      ]
    },
    {
      "cell_type": "code",
      "source": [
        "# ideally M * N is at least equal to total_features\n",
        "packet_blocks_padded = np.pad(packet_blocks_scaled, ((0, 0), (0, M * N - total_features)), 'constant')\n",
        "#np.pad(array, pad_width, mode) here \"constant\" means 0\n",
        "#(0, 0) for the first axis: No padding is applied to the rows (first axis).\n",
        "#(0, M * N - total_features) for the second axis: This pads the columns (second axis) to ensure each block has exactly\n",
        "# M * N features, filling with zeros if needed.\n",
        "\n",
        "\n",
        "# Reshape the features into M * N dimensions\n",
        "packet_images = packet_blocks_padded.reshape((-1, M, N))\n",
        "#After reshaping, the total number of elements must remain the same. So, NumPy will calculate the size of the -1 dimension as:\n",
        "#inferred_dimension = total_Elements / (M * N)"
      ],
      "metadata": {
        "id": "zab5TCxh9HPz"
      },
      "execution_count": null,
      "outputs": []
    },
    {
      "cell_type": "code",
      "source": [
        "# Convert labels to categorical format\n",
        "labels_encoded = pd.factorize(labels)[0]\n",
        "#factorize converts the character labels to numeric values\n",
        "#.factorize() returns two labels one teh original and other the converted and we want the converted thus [0]\n",
        "\n",
        "labels_categorical = to_categorical(labels_encoded)\n",
        "#to_categorical is used for one-hot encoding (transforms categorical labels into binary vectors)\n",
        "\n",
        "labels_categorical.shape,labels_encoded.shape"
      ],
      "metadata": {
        "colab": {
          "base_uri": "https://localhost:8080/"
        },
        "id": "zCaaVI4AuzMf",
        "outputId": "550b6845-d383-4bd9-8a30-fb6d5815b3be"
      },
      "execution_count": null,
      "outputs": [
        {
          "output_type": "execute_result",
          "data": {
            "text/plain": [
              "((201, 5), (201,))"
            ]
          },
          "metadata": {},
          "execution_count": 9
        }
      ]
    },
    {
      "cell_type": "code",
      "source": [
        "# Split the dataset into training and testing sets\n",
        "X_train, X_test, y_train, y_test = train_test_split(packet_images, labels_categorical, test_size=0.2, random_state=42)\n",
        "\n",
        "# Save the preprocessed data\n",
        "np.save('X_train.npy', X_train)\n",
        "np.save('X_test.npy', X_test)\n",
        "np.save('y_train.npy', y_train)\n",
        "np.save('y_test.npy', y_test)"
      ],
      "metadata": {
        "id": "N3reeNmwu3CP"
      },
      "execution_count": null,
      "outputs": []
    },
    {
      "cell_type": "markdown",
      "source": [
        "## Retreating the saved files"
      ],
      "metadata": {
        "id": "NqLNCfY1bWhC"
      }
    },
    {
      "cell_type": "code",
      "source": [
        "# Model and training\n",
        "import numpy as np\n",
        "from keras.models import Sequential\n",
        "from keras.layers import Conv1D, MaxPooling1D, Flatten, Dense, Dropout\n",
        "from keras.optimizers import Adam\n",
        "from keras.callbacks import ModelCheckpoint, EarlyStopping\n",
        "\n",
        "# Load the preprocessed data\n",
        "X_train = np.load('X_train.npy')\n",
        "X_test = np.load('X_test.npy')\n",
        "y_train = np.load('y_train.npy')\n",
        "y_test = np.load('y_test.npy')\n",
        "X_train.shape"
      ],
      "metadata": {
        "id": "fcNVlSIhxYGQ",
        "colab": {
          "base_uri": "https://localhost:8080/"
        },
        "outputId": "c57f9217-198d-4644-a8fb-150c2580a7fe"
      },
      "execution_count": null,
      "outputs": [
        {
          "output_type": "execute_result",
          "data": {
            "text/plain": [
              "(160, 60, 60)"
            ]
          },
          "metadata": {},
          "execution_count": 11
        }
      ]
    },
    {
      "cell_type": "markdown",
      "source": [
        "##Sample image and data stored in the column"
      ],
      "metadata": {
        "id": "IHRADxgfbd0C"
      }
    },
    {
      "cell_type": "code",
      "source": [
        "import matplotlib.pyplot as plt\n",
        "plt.imshow(X_train[20].reshape((M, N)))\n",
        "plt.show()"
      ],
      "metadata": {
        "colab": {
          "base_uri": "https://localhost:8080/",
          "height": 432
        },
        "id": "zG8mkT_xzIg4",
        "outputId": "3be7b419-669d-48a8-9b5a-9af544149621"
      },
      "execution_count": null,
      "outputs": [
        {
          "output_type": "display_data",
          "data": {
            "text/plain": [
              "<Figure size 640x480 with 1 Axes>"
            ],
            "image/png": "[encoded data removed]"
          },
          "metadata": {}
        }
      ]
    },
    {
      "cell_type": "code",
      "source": [
        "X_train.shape,X_train[1]"
      ],
      "metadata": {
        "colab": {
          "base_uri": "https://localhost:8080/"
        },
        "id": "0B6B5P7ZD4Wo",
        "outputId": "464817fe-dde1-4dc6-8457-9aa281455ecc"
      },
      "execution_count": null,
      "outputs": [
        {
          "output_type": "execute_result",
          "data": {
            "text/plain": [
              "((160, 60, 60),\n",
              " array([[6.68033140e-01, 6.05135474e-03, 0.00000000e+00, ...,\n",
              "         1.01985518e-03, 3.19718481e-02, 1.54241928e-02],\n",
              "        [2.09813753e-02, 1.76245211e-01, 2.85406024e-02, ...,\n",
              "         4.61162129e-04, 1.46029412e-02, 1.17024715e-02],\n",
              "        [3.10596345e-02, 4.09237124e-04, 0.00000000e+00, ...,\n",
              "         0.00000000e+00, 0.00000000e+00, 0.00000000e+00],\n",
              "        ...,\n",
              "        [0.00000000e+00, 0.00000000e+00, 0.00000000e+00, ...,\n",
              "         0.00000000e+00, 0.00000000e+00, 0.00000000e+00],\n",
              "        [0.00000000e+00, 0.00000000e+00, 0.00000000e+00, ...,\n",
              "         0.00000000e+00, 0.00000000e+00, 0.00000000e+00],\n",
              "        [0.00000000e+00, 0.00000000e+00, 0.00000000e+00, ...,\n",
              "         0.00000000e+00, 0.00000000e+00, 0.00000000e+00]]))"
            ]
          },
          "metadata": {},
          "execution_count": 40
        }
      ]
    },
    {
      "cell_type": "markdown",
      "source": [
        "##Model creation"
      ],
      "metadata": {
        "id": "KmOeFD7lbiBC"
      }
    },
    {
      "cell_type": "code",
      "source": [
        "\n",
        "# Define the 1D CNN model\n",
        "def create_cnn_model(input_shape, num_classes):\n",
        "    model = Sequential()\n",
        "\n",
        "    # First Convolutional Layer\n",
        "    model.add(Conv1D(5, kernel_size=6, strides=1, padding='same', activation='relu', input_shape=input_shape))\n",
        "    model.add(MaxPooling1D(pool_size=3))\n",
        "\n",
        "    # Second Convolutional Layer\n",
        "    model.add(Conv1D(10, kernel_size=5, strides=1, padding='same', activation='relu'))\n",
        "    model.add(MaxPooling1D(pool_size=3))\n",
        "\n",
        "    # Flatten and Dense Layers\n",
        "    model.add(Flatten())\n",
        "    model.add(Dense(64, activation='relu'))\n",
        "    model.add(Dropout(0.5))\n",
        "    model.add(Dense(num_classes, activation='softmax'))\n",
        "\n",
        "    return model\n",
        "#Convulation layer: filters=5: Number of output filters in the convolution.\n",
        "#kernel_size This filter slides over the input data and performs a dot product with the input values within the kernel's length.\n",
        "#strides specifies the step size with which the filter moves across the input data. It determines how many elements the filter shifts each time it moves.\n",
        "#Activation function applied after the convolution (Rectified Linear Unit).\n",
        "# parameter (in Convolution layer) = (kernel_size * kernel_size * number of input channel +1) * number of output channel\n",
        "# parameter (in dense layer) = (input_no._of_neurons +1) * output_no._of_nuerons\n",
        "input_shape = (M, N)  # Adjust the input shape accordingly\n",
        "num_classes = y_train.shape[1]  # Number of classes\n",
        "\n",
        "model = create_cnn_model(input_shape, num_classes)\n",
        "model.compile(optimizer=Adam(), loss='categorical_crossentropy', metrics=['accuracy'])\n",
        "model.summary()\n",
        "input_shape,num_classes"
      ],
      "metadata": {
        "colab": {
          "base_uri": "https://localhost:8080/",
          "height": 470
        },
        "id": "Os55-joSyoHW",
        "outputId": "0d1717fe-0a9c-4687-fc0d-ede0b517f746"
      },
      "execution_count": null,
      "outputs": [
        {
          "output_type": "stream",
          "name": "stderr",
          "text": [
            "/usr/local/lib/python3.10/dist-packages/keras/src/layers/convolutional/base_conv.py:107: UserWarning: Do not pass an `input_shape`/`input_dim` argument to a layer. When using Sequential models, prefer using an `Input(shape)` object as the first layer in the model instead.\n",
            "  super().__init__(activity_regularizer=activity_regularizer, **kwargs)\n"
          ]
        },
        {
          "output_type": "display_data",
          "data": {
            "text/plain": [
              "\u001b[1mModel: \"sequential\"\u001b[0m\n"
            ],
            "text/html": [
              "<pre style=\"white-space:pre;overflow-x:auto;line-height:normal;font-family:Menlo,'DejaVu Sans Mono',consolas,'Courier New',monospace\"><span style=\"font-weight: bold\">Model: \"sequential\"</span>\n",
              "</pre>\n"
            ]
          },
          "metadata": {}
        },
        {
          "output_type": "display_data",
          "data": {
            "text/plain": [
              "┏━━━━━━━━━━━━━━━━━━━━━━━━━━━━━━━━━━━━━━┳━━━━━━━━━━━━━━━━━━━━━━━━━━━━━┳━━━━━━━━━━━━━━━━━┓\n",
              "┃\u001b[1m \u001b[0m\u001b[1mLayer (type)                        \u001b[0m\u001b[1m \u001b[0m┃\u001b[1m \u001b[0m\u001b[1mOutput Shape               \u001b[0m\u001b[1m \u001b[0m┃\u001b[1m \u001b[0m\u001b[1m        Param #\u001b[0m\u001b[1m \u001b[0m┃\n",
              "┡━━━━━━━━━━━━━━━━━━━━━━━━━━━━━━━━━━━━━━╇━━━━━━━━━━━━━━━━━━━━━━━━━━━━━╇━━━━━━━━━━━━━━━━━┩\n",
              "│ conv1d (\u001b[38;5;33mConv1D\u001b[0m)                      │ (\u001b[38;5;45mNone\u001b[0m, \u001b[38;5;34m60\u001b[0m, \u001b[38;5;34m5\u001b[0m)               │           \u001b[38;5;34m1,805\u001b[0m │\n",
              "├──────────────────────────────────────┼─────────────────────────────┼─────────────────┤\n",
              "│ max_pooling1d (\u001b[38;5;33mMaxPooling1D\u001b[0m)         │ (\u001b[38;5;45mNone\u001b[0m, \u001b[38;5;34m20\u001b[0m, \u001b[38;5;34m5\u001b[0m)               │               \u001b[38;5;34m0\u001b[0m │\n",
              "├──────────────────────────────────────┼─────────────────────────────┼─────────────────┤\n",
              "│ conv1d_1 (\u001b[38;5;33mConv1D\u001b[0m)                    │ (\u001b[38;5;45mNone\u001b[0m, \u001b[38;5;34m20\u001b[0m, \u001b[38;5;34m10\u001b[0m)              │             \u001b[38;5;34m260\u001b[0m │\n",
              "├──────────────────────────────────────┼─────────────────────────────┼─────────────────┤\n",
              "│ max_pooling1d_1 (\u001b[38;5;33mMaxPooling1D\u001b[0m)       │ (\u001b[38;5;45mNone\u001b[0m, \u001b[38;5;34m6\u001b[0m, \u001b[38;5;34m10\u001b[0m)               │               \u001b[38;5;34m0\u001b[0m │\n",
              "├──────────────────────────────────────┼─────────────────────────────┼─────────────────┤\n",
              "│ flatten (\u001b[38;5;33mFlatten\u001b[0m)                    │ (\u001b[38;5;45mNone\u001b[0m, \u001b[38;5;34m60\u001b[0m)                  │               \u001b[38;5;34m0\u001b[0m │\n",
              "├──────────────────────────────────────┼─────────────────────────────┼─────────────────┤\n",
              "│ dense (\u001b[38;5;33mDense\u001b[0m)                        │ (\u001b[38;5;45mNone\u001b[0m, \u001b[38;5;34m64\u001b[0m)                  │           \u001b[38;5;34m3,904\u001b[0m │\n",
              "├──────────────────────────────────────┼─────────────────────────────┼─────────────────┤\n",
              "│ dropout (\u001b[38;5;33mDropout\u001b[0m)                    │ (\u001b[38;5;45mNone\u001b[0m, \u001b[38;5;34m64\u001b[0m)                  │               \u001b[38;5;34m0\u001b[0m │\n",
              "├──────────────────────────────────────┼─────────────────────────────┼─────────────────┤\n",
              "│ dense_1 (\u001b[38;5;33mDense\u001b[0m)                      │ (\u001b[38;5;45mNone\u001b[0m, \u001b[38;5;34m5\u001b[0m)                   │             \u001b[38;5;34m325\u001b[0m │\n",
              "└──────────────────────────────────────┴─────────────────────────────┴─────────────────┘\n"
            ],
            "text/html": [
              "<pre style=\"white-space:pre;overflow-x:auto;line-height:normal;font-family:Menlo,'DejaVu Sans Mono',consolas,'Courier New',monospace\">┏━━━━━━━━━━━━━━━━━━━━━━━━━━━━━━━━━━━━━━┳━━━━━━━━━━━━━━━━━━━━━━━━━━━━━┳━━━━━━━━━━━━━━━━━┓\n",
              "┃<span style=\"font-weight: bold\"> Layer (type)                         </span>┃<span style=\"font-weight: bold\"> Output Shape                </span>┃<span style=\"font-weight: bold\">         Param # </span>┃\n",
              "┡━━━━━━━━━━━━━━━━━━━━━━━━━━━━━━━━━━━━━━╇━━━━━━━━━━━━━━━━━━━━━━━━━━━━━╇━━━━━━━━━━━━━━━━━┩\n",
              "│ conv1d (<span style=\"color: #0087ff; text-decoration-color: #0087ff\">Conv1D</span>)                      │ (<span style=\"color: #00d7ff; text-decoration-color: #00d7ff\">None</span>, <span style=\"color: #00af00; text-decoration-color: #00af00\">60</span>, <span style=\"color: #00af00; text-decoration-color: #00af00\">5</span>)               │           <span style=\"color: #00af00; text-decoration-color: #00af00\">1,805</span> │\n",
              "├──────────────────────────────────────┼─────────────────────────────┼─────────────────┤\n",
              "│ max_pooling1d (<span style=\"color: #0087ff; text-decoration-color: #0087ff\">MaxPooling1D</span>)         │ (<span style=\"color: #00d7ff; text-decoration-color: #00d7ff\">None</span>, <span style=\"color: #00af00; text-decoration-color: #00af00\">20</span>, <span style=\"color: #00af00; text-decoration-color: #00af00\">5</span>)               │               <span style=\"color: #00af00; text-decoration-color: #00af00\">0</span> │\n",
              "├──────────────────────────────────────┼─────────────────────────────┼─────────────────┤\n",
              "│ conv1d_1 (<span style=\"color: #0087ff; text-decoration-color: #0087ff\">Conv1D</span>)                    │ (<span style=\"color: #00d7ff; text-decoration-color: #00d7ff\">None</span>, <span style=\"color: #00af00; text-decoration-color: #00af00\">20</span>, <span style=\"color: #00af00; text-decoration-color: #00af00\">10</span>)              │             <span style=\"color: #00af00; text-decoration-color: #00af00\">260</span> │\n",
              "├──────────────────────────────────────┼─────────────────────────────┼─────────────────┤\n",
              "│ max_pooling1d_1 (<span style=\"color: #0087ff; text-decoration-color: #0087ff\">MaxPooling1D</span>)       │ (<span style=\"color: #00d7ff; text-decoration-color: #00d7ff\">None</span>, <span style=\"color: #00af00; text-decoration-color: #00af00\">6</span>, <span style=\"color: #00af00; text-decoration-color: #00af00\">10</span>)               │               <span style=\"color: #00af00; text-decoration-color: #00af00\">0</span> │\n",
              "├──────────────────────────────────────┼─────────────────────────────┼─────────────────┤\n",
              "│ flatten (<span style=\"color: #0087ff; text-decoration-color: #0087ff\">Flatten</span>)                    │ (<span style=\"color: #00d7ff; text-decoration-color: #00d7ff\">None</span>, <span style=\"color: #00af00; text-decoration-color: #00af00\">60</span>)                  │               <span style=\"color: #00af00; text-decoration-color: #00af00\">0</span> │\n",
              "├──────────────────────────────────────┼─────────────────────────────┼─────────────────┤\n",
              "│ dense (<span style=\"color: #0087ff; text-decoration-color: #0087ff\">Dense</span>)                        │ (<span style=\"color: #00d7ff; text-decoration-color: #00d7ff\">None</span>, <span style=\"color: #00af00; text-decoration-color: #00af00\">64</span>)                  │           <span style=\"color: #00af00; text-decoration-color: #00af00\">3,904</span> │\n",
              "├──────────────────────────────────────┼─────────────────────────────┼─────────────────┤\n",
              "│ dropout (<span style=\"color: #0087ff; text-decoration-color: #0087ff\">Dropout</span>)                    │ (<span style=\"color: #00d7ff; text-decoration-color: #00d7ff\">None</span>, <span style=\"color: #00af00; text-decoration-color: #00af00\">64</span>)                  │               <span style=\"color: #00af00; text-decoration-color: #00af00\">0</span> │\n",
              "├──────────────────────────────────────┼─────────────────────────────┼─────────────────┤\n",
              "│ dense_1 (<span style=\"color: #0087ff; text-decoration-color: #0087ff\">Dense</span>)                      │ (<span style=\"color: #00d7ff; text-decoration-color: #00d7ff\">None</span>, <span style=\"color: #00af00; text-decoration-color: #00af00\">5</span>)                   │             <span style=\"color: #00af00; text-decoration-color: #00af00\">325</span> │\n",
              "└──────────────────────────────────────┴─────────────────────────────┴─────────────────┘\n",
              "</pre>\n"
            ]
          },
          "metadata": {}
        },
        {
          "output_type": "display_data",
          "data": {
            "text/plain": [
              "\u001b[1m Total params: \u001b[0m\u001b[38;5;34m6,294\u001b[0m (24.59 KB)\n"
            ],
            "text/html": [
              "<pre style=\"white-space:pre;overflow-x:auto;line-height:normal;font-family:Menlo,'DejaVu Sans Mono',consolas,'Courier New',monospace\"><span style=\"font-weight: bold\"> Total params: </span><span style=\"color: #00af00; text-decoration-color: #00af00\">6,294</span> (24.59 KB)\n",
              "</pre>\n"
            ]
          },
          "metadata": {}
        },
        {
          "output_type": "display_data",
          "data": {
            "text/plain": [
              "\u001b[1m Trainable params: \u001b[0m\u001b[38;5;34m6,294\u001b[0m (24.59 KB)\n"
            ],
            "text/html": [
              "<pre style=\"white-space:pre;overflow-x:auto;line-height:normal;font-family:Menlo,'DejaVu Sans Mono',consolas,'Courier New',monospace\"><span style=\"font-weight: bold\"> Trainable params: </span><span style=\"color: #00af00; text-decoration-color: #00af00\">6,294</span> (24.59 KB)\n",
              "</pre>\n"
            ]
          },
          "metadata": {}
        },
        {
          "output_type": "display_data",
          "data": {
            "text/plain": [
              "\u001b[1m Non-trainable params: \u001b[0m\u001b[38;5;34m0\u001b[0m (0.00 B)\n"
            ],
            "text/html": [
              "<pre style=\"white-space:pre;overflow-x:auto;line-height:normal;font-family:Menlo,'DejaVu Sans Mono',consolas,'Courier New',monospace\"><span style=\"font-weight: bold\"> Non-trainable params: </span><span style=\"color: #00af00; text-decoration-color: #00af00\">0</span> (0.00 B)\n",
              "</pre>\n"
            ]
          },
          "metadata": {}
        },
        {
          "output_type": "execute_result",
          "data": {
            "text/plain": [
              "((60, 60), 5)"
            ]
          },
          "metadata": {},
          "execution_count": 13
        }
      ]
    },
    {
      "cell_type": "markdown",
      "source": [
        "## Model training"
      ],
      "metadata": {
        "id": "SSStp8T4bmJ0"
      }
    },
    {
      "cell_type": "code",
      "source": [
        "# Train the model\n",
        "history = model.fit(X_train, y_train,\n",
        "                    batch_size=32,\n",
        "                    epochs=50,\n",
        "                    validation_split=0.2)\n",
        "\n",
        "# Evaluate on the test set\n",
        "test_loss, test_acc = model.evaluate(X_test, y_test)\n",
        "print(f'Test accuracy: {test_acc:.4f}')"
      ],
      "metadata": {
        "colab": {
          "base_uri": "https://localhost:8080/"
        },
        "id": "XvLerMYpzCiN",
        "outputId": "60397e80-6ef8-4954-863b-608293a2332a"
      },
      "execution_count": null,
      "outputs": [
        {
          "output_type": "stream",
          "name": "stdout",
          "text": [
            "Epoch 1/50\n",
            "\u001b[1m4/4\u001b[0m \u001b[32m━━━━━━━━━━━━━━━━━━━━\u001b[0m\u001b[37m\u001b[0m \u001b[1m2s\u001b[0m 92ms/step - accuracy: 0.0771 - loss: 1.6875 - val_accuracy: 0.0312 - val_loss: 1.6063\n",
            "Epoch 2/50\n",
            "\u001b[1m4/4\u001b[0m \u001b[32m━━━━━━━━━━━━━━━━━━━━\u001b[0m\u001b[37m\u001b[0m \u001b[1m0s\u001b[0m 14ms/step - accuracy: 0.1771 - loss: 1.6189 - val_accuracy: 0.4375 - val_loss: 1.5531\n",
            "Epoch 3/50\n",
            "\u001b[1m4/4\u001b[0m \u001b[32m━━━━━━━━━━━━━━━━━━━━\u001b[0m\u001b[37m\u001b[0m \u001b[1m0s\u001b[0m 17ms/step - accuracy: 0.3115 - loss: 1.5603 - val_accuracy: 0.5312 - val_loss: 1.5062\n",
            "Epoch 4/50\n",
            "\u001b[1m4/4\u001b[0m \u001b[32m━━━━━━━━━━━━━━━━━━━━\u001b[0m\u001b[37m\u001b[0m \u001b[1m0s\u001b[0m 16ms/step - accuracy: 0.3625 - loss: 1.5229 - val_accuracy: 0.5625 - val_loss: 1.4627\n",
            "Epoch 5/50\n",
            "\u001b[1m4/4\u001b[0m \u001b[32m━━━━━━━━━━━━━━━━━━━━\u001b[0m\u001b[37m\u001b[0m \u001b[1m0s\u001b[0m 14ms/step - accuracy: 0.4781 - loss: 1.4732 - val_accuracy: 0.5938 - val_loss: 1.4110\n",
            "Epoch 6/50\n",
            "\u001b[1m4/4\u001b[0m \u001b[32m━━━━━━━━━━━━━━━━━━━━\u001b[0m\u001b[37m\u001b[0m \u001b[1m0s\u001b[0m 14ms/step - accuracy: 0.4417 - loss: 1.4528 - val_accuracy: 0.6250 - val_loss: 1.3507\n",
            "Epoch 7/50\n",
            "\u001b[1m4/4\u001b[0m \u001b[32m━━━━━━━━━━━━━━━━━━━━\u001b[0m\u001b[37m\u001b[0m \u001b[1m0s\u001b[0m 14ms/step - accuracy: 0.5177 - loss: 1.3809 - val_accuracy: 0.6562 - val_loss: 1.2875\n",
            "Epoch 8/50\n",
            "\u001b[1m4/4\u001b[0m \u001b[32m━━━━━━━━━━━━━━━━━━━━\u001b[0m\u001b[37m\u001b[0m \u001b[1m0s\u001b[0m 16ms/step - accuracy: 0.5562 - loss: 1.3390 - val_accuracy: 0.7188 - val_loss: 1.2218\n",
            "Epoch 9/50\n",
            "\u001b[1m4/4\u001b[0m \u001b[32m━━━━━━━━━━━━━━━━━━━━\u001b[0m\u001b[37m\u001b[0m \u001b[1m0s\u001b[0m 19ms/step - accuracy: 0.5667 - loss: 1.2404 - val_accuracy: 0.7188 - val_loss: 1.1592\n",
            "Epoch 10/50\n",
            "\u001b[1m4/4\u001b[0m \u001b[32m━━━━━━━━━━━━━━━━━━━━\u001b[0m\u001b[37m\u001b[0m \u001b[1m0s\u001b[0m 17ms/step - accuracy: 0.6094 - loss: 1.1927 - val_accuracy: 0.7188 - val_loss: 1.1018\n",
            "Epoch 11/50\n",
            "\u001b[1m4/4\u001b[0m \u001b[32m━━━━━━━━━━━━━━━━━━━━\u001b[0m\u001b[37m\u001b[0m \u001b[1m0s\u001b[0m 14ms/step - accuracy: 0.5917 - loss: 1.1525 - val_accuracy: 0.7500 - val_loss: 1.0498\n",
            "Epoch 12/50\n",
            "\u001b[1m4/4\u001b[0m \u001b[32m━━━━━━━━━━━━━━━━━━━━\u001b[0m\u001b[37m\u001b[0m \u001b[1m0s\u001b[0m 14ms/step - accuracy: 0.6146 - loss: 1.0953 - val_accuracy: 0.7500 - val_loss: 1.0081\n",
            "Epoch 13/50\n",
            "\u001b[1m4/4\u001b[0m \u001b[32m━━━━━━━━━━━━━━━━━━━━\u001b[0m\u001b[37m\u001b[0m \u001b[1m0s\u001b[0m 13ms/step - accuracy: 0.6521 - loss: 1.0674 - val_accuracy: 0.7500 - val_loss: 0.9623\n",
            "Epoch 14/50\n",
            "\u001b[1m4/4\u001b[0m \u001b[32m━━━━━━━━━━━━━━━━━━━━\u001b[0m\u001b[37m\u001b[0m \u001b[1m0s\u001b[0m 14ms/step - accuracy: 0.6219 - loss: 1.0909 - val_accuracy: 0.7500 - val_loss: 0.9223\n",
            "Epoch 15/50\n",
            "\u001b[1m4/4\u001b[0m \u001b[32m━━━━━━━━━━━━━━━━━━━━\u001b[0m\u001b[37m\u001b[0m \u001b[1m0s\u001b[0m 17ms/step - accuracy: 0.6104 - loss: 1.0695 - val_accuracy: 0.7500 - val_loss: 0.8796\n",
            "Epoch 16/50\n",
            "\u001b[1m4/4\u001b[0m \u001b[32m━━━━━━━━━━━━━━━━━━━━\u001b[0m\u001b[37m\u001b[0m \u001b[1m0s\u001b[0m 14ms/step - accuracy: 0.6969 - loss: 0.9711 - val_accuracy: 0.7500 - val_loss: 0.8387\n",
            "Epoch 17/50\n",
            "\u001b[1m4/4\u001b[0m \u001b[32m━━━━━━━━━━━━━━━━━━━━\u001b[0m\u001b[37m\u001b[0m \u001b[1m0s\u001b[0m 15ms/step - accuracy: 0.6448 - loss: 1.0201 - val_accuracy: 0.7500 - val_loss: 0.8061\n",
            "Epoch 18/50\n",
            "\u001b[1m4/4\u001b[0m \u001b[32m━━━━━━━━━━━━━━━━━━━━\u001b[0m\u001b[37m\u001b[0m \u001b[1m0s\u001b[0m 14ms/step - accuracy: 0.6115 - loss: 0.9250 - val_accuracy: 0.7500 - val_loss: 0.7724\n",
            "Epoch 19/50\n",
            "\u001b[1m4/4\u001b[0m \u001b[32m━━━━━━━━━━━━━━━━━━━━\u001b[0m\u001b[37m\u001b[0m \u001b[1m0s\u001b[0m 17ms/step - accuracy: 0.6938 - loss: 0.8963 - val_accuracy: 0.7500 - val_loss: 0.7435\n",
            "Epoch 20/50\n",
            "\u001b[1m4/4\u001b[0m \u001b[32m━━━━━━━━━━━━━━━━━━━━\u001b[0m\u001b[37m\u001b[0m \u001b[1m0s\u001b[0m 15ms/step - accuracy: 0.6583 - loss: 0.9097 - val_accuracy: 0.7500 - val_loss: 0.7212\n",
            "Epoch 21/50\n",
            "\u001b[1m4/4\u001b[0m \u001b[32m━━━━━━━━━━━━━━━━━━━━\u001b[0m\u001b[37m\u001b[0m \u001b[1m0s\u001b[0m 14ms/step - accuracy: 0.7177 - loss: 0.8469 - val_accuracy: 0.7500 - val_loss: 0.6994\n",
            "Epoch 22/50\n",
            "\u001b[1m4/4\u001b[0m \u001b[32m━━━━━━━━━━━━━━━━━━━━\u001b[0m\u001b[37m\u001b[0m \u001b[1m0s\u001b[0m 14ms/step - accuracy: 0.7229 - loss: 0.8354 - val_accuracy: 0.7500 - val_loss: 0.6812\n",
            "Epoch 23/50\n",
            "\u001b[1m4/4\u001b[0m \u001b[32m━━━━━━━━━━━━━━━━━━━━\u001b[0m\u001b[37m\u001b[0m \u001b[1m0s\u001b[0m 14ms/step - accuracy: 0.6865 - loss: 0.7884 - val_accuracy: 0.7500 - val_loss: 0.6614\n",
            "Epoch 24/50\n",
            "\u001b[1m4/4\u001b[0m \u001b[32m━━━━━━━━━━━━━━━━━━━━\u001b[0m\u001b[37m\u001b[0m \u001b[1m0s\u001b[0m 14ms/step - accuracy: 0.7167 - loss: 0.8032 - val_accuracy: 0.7812 - val_loss: 0.6333\n",
            "Epoch 25/50\n",
            "\u001b[1m4/4\u001b[0m \u001b[32m━━━━━━━━━━━━━━━━━━━━\u001b[0m\u001b[37m\u001b[0m \u001b[1m0s\u001b[0m 14ms/step - accuracy: 0.7135 - loss: 0.8523 - val_accuracy: 0.7812 - val_loss: 0.6112\n",
            "Epoch 26/50\n",
            "\u001b[1m4/4\u001b[0m \u001b[32m━━━━━━━━━━━━━━━━━━━━\u001b[0m\u001b[37m\u001b[0m \u001b[1m0s\u001b[0m 15ms/step - accuracy: 0.7583 - loss: 0.6799 - val_accuracy: 0.8438 - val_loss: 0.6002\n",
            "Epoch 27/50\n",
            "\u001b[1m4/4\u001b[0m \u001b[32m━━━━━━━━━━━━━━━━━━━━\u001b[0m\u001b[37m\u001b[0m \u001b[1m0s\u001b[0m 18ms/step - accuracy: 0.7240 - loss: 0.7297 - val_accuracy: 0.7812 - val_loss: 0.5878\n",
            "Epoch 28/50\n",
            "\u001b[1m4/4\u001b[0m \u001b[32m━━━━━━━━━━━━━━━━━━━━\u001b[0m\u001b[37m\u001b[0m \u001b[1m0s\u001b[0m 16ms/step - accuracy: 0.7823 - loss: 0.6384 - val_accuracy: 0.7812 - val_loss: 0.5694\n",
            "Epoch 29/50\n",
            "\u001b[1m4/4\u001b[0m \u001b[32m━━━━━━━━━━━━━━━━━━━━\u001b[0m\u001b[37m\u001b[0m \u001b[1m0s\u001b[0m 17ms/step - accuracy: 0.7312 - loss: 0.7123 - val_accuracy: 0.7812 - val_loss: 0.5581\n",
            "Epoch 30/50\n",
            "\u001b[1m4/4\u001b[0m \u001b[32m━━━━━━━━━━━━━━━━━━━━\u001b[0m\u001b[37m\u001b[0m \u001b[1m0s\u001b[0m 14ms/step - accuracy: 0.6979 - loss: 0.7034 - val_accuracy: 0.8438 - val_loss: 0.5486\n",
            "Epoch 31/50\n",
            "\u001b[1m4/4\u001b[0m \u001b[32m━━━━━━━━━━━━━━━━━━━━\u001b[0m\u001b[37m\u001b[0m \u001b[1m0s\u001b[0m 14ms/step - accuracy: 0.7302 - loss: 0.7106 - val_accuracy: 0.8438 - val_loss: 0.5358\n",
            "Epoch 32/50\n",
            "\u001b[1m4/4\u001b[0m \u001b[32m━━━━━━━━━━━━━━━━━━━━\u001b[0m\u001b[37m\u001b[0m \u001b[1m0s\u001b[0m 15ms/step - accuracy: 0.7635 - loss: 0.6566 - val_accuracy: 0.8438 - val_loss: 0.5282\n",
            "Epoch 33/50\n",
            "\u001b[1m4/4\u001b[0m \u001b[32m━━━━━━━━━━━━━━━━━━━━\u001b[0m\u001b[37m\u001b[0m \u001b[1m0s\u001b[0m 14ms/step - accuracy: 0.7563 - loss: 0.6573 - val_accuracy: 0.8438 - val_loss: 0.5223\n",
            "Epoch 34/50\n",
            "\u001b[1m4/4\u001b[0m \u001b[32m━━━━━━━━━━━━━━━━━━━━\u001b[0m\u001b[37m\u001b[0m \u001b[1m0s\u001b[0m 15ms/step - accuracy: 0.7740 - loss: 0.6109 - val_accuracy: 0.8438 - val_loss: 0.5067\n",
            "Epoch 35/50\n",
            "\u001b[1m4/4\u001b[0m \u001b[32m━━━━━━━━━━━━━━━━━━━━\u001b[0m\u001b[37m\u001b[0m \u001b[1m0s\u001b[0m 14ms/step - accuracy: 0.8021 - loss: 0.5938 - val_accuracy: 0.8438 - val_loss: 0.4830\n",
            "Epoch 36/50\n",
            "\u001b[1m4/4\u001b[0m \u001b[32m━━━━━━━━━━━━━━━━━━━━\u001b[0m\u001b[37m\u001b[0m \u001b[1m0s\u001b[0m 15ms/step - accuracy: 0.8635 - loss: 0.5259 - val_accuracy: 0.8438 - val_loss: 0.4691\n",
            "Epoch 37/50\n",
            "\u001b[1m4/4\u001b[0m \u001b[32m━━━━━━━━━━━━━━━━━━━━\u001b[0m\u001b[37m\u001b[0m \u001b[1m0s\u001b[0m 18ms/step - accuracy: 0.8135 - loss: 0.6085 - val_accuracy: 0.8438 - val_loss: 0.4631\n",
            "Epoch 38/50\n",
            "\u001b[1m4/4\u001b[0m \u001b[32m━━━━━━━━━━━━━━━━━━━━\u001b[0m\u001b[37m\u001b[0m \u001b[1m0s\u001b[0m 17ms/step - accuracy: 0.8896 - loss: 0.5269 - val_accuracy: 0.8438 - val_loss: 0.4607\n",
            "Epoch 39/50\n",
            "\u001b[1m4/4\u001b[0m \u001b[32m━━━━━━━━━━━━━━━━━━━━\u001b[0m\u001b[37m\u001b[0m \u001b[1m0s\u001b[0m 19ms/step - accuracy: 0.8094 - loss: 0.5658 - val_accuracy: 0.8438 - val_loss: 0.4523\n",
            "Epoch 40/50\n",
            "\u001b[1m4/4\u001b[0m \u001b[32m━━━━━━━━━━━━━━━━━━━━\u001b[0m\u001b[37m\u001b[0m \u001b[1m0s\u001b[0m 14ms/step - accuracy: 0.8573 - loss: 0.4826 - val_accuracy: 0.8438 - val_loss: 0.4416\n",
            "Epoch 41/50\n",
            "\u001b[1m4/4\u001b[0m \u001b[32m━━━━━━━━━━━━━━━━━━━━\u001b[0m\u001b[37m\u001b[0m \u001b[1m0s\u001b[0m 14ms/step - accuracy: 0.7854 - loss: 0.5302 - val_accuracy: 0.8438 - val_loss: 0.4434\n",
            "Epoch 42/50\n",
            "\u001b[1m4/4\u001b[0m \u001b[32m━━━━━━━━━━━━━━━━━━━━\u001b[0m\u001b[37m\u001b[0m \u001b[1m0s\u001b[0m 13ms/step - accuracy: 0.8396 - loss: 0.4847 - val_accuracy: 0.8438 - val_loss: 0.4337\n",
            "Epoch 43/50\n",
            "\u001b[1m4/4\u001b[0m \u001b[32m━━━━━━━━━━━━━━━━━━━━\u001b[0m\u001b[37m\u001b[0m \u001b[1m0s\u001b[0m 14ms/step - accuracy: 0.8448 - loss: 0.5188 - val_accuracy: 0.8750 - val_loss: 0.4150\n",
            "Epoch 44/50\n",
            "\u001b[1m4/4\u001b[0m \u001b[32m━━━━━━━━━━━━━━━━━━━━\u001b[0m\u001b[37m\u001b[0m \u001b[1m0s\u001b[0m 14ms/step - accuracy: 0.8594 - loss: 0.4576 - val_accuracy: 0.8750 - val_loss: 0.4067\n",
            "Epoch 45/50\n",
            "\u001b[1m4/4\u001b[0m \u001b[32m━━━━━━━━━━━━━━━━━━━━\u001b[0m\u001b[37m\u001b[0m \u001b[1m0s\u001b[0m 14ms/step - accuracy: 0.8656 - loss: 0.4280 - val_accuracy: 0.8750 - val_loss: 0.4076\n",
            "Epoch 46/50\n",
            "\u001b[1m4/4\u001b[0m \u001b[32m━━━━━━━━━━━━━━━━━━━━\u001b[0m\u001b[37m\u001b[0m \u001b[1m0s\u001b[0m 22ms/step - accuracy: 0.8698 - loss: 0.4308 - val_accuracy: 0.8750 - val_loss: 0.4058\n",
            "Epoch 47/50\n",
            "\u001b[1m4/4\u001b[0m \u001b[32m━━━━━━━━━━━━━━━━━━━━\u001b[0m\u001b[37m\u001b[0m \u001b[1m0s\u001b[0m 26ms/step - accuracy: 0.8448 - loss: 0.4198 - val_accuracy: 0.8438 - val_loss: 0.4030\n",
            "Epoch 48/50\n",
            "\u001b[1m4/4\u001b[0m \u001b[32m━━━━━━━━━━━━━━━━━━━━\u001b[0m\u001b[37m\u001b[0m \u001b[1m0s\u001b[0m 14ms/step - accuracy: 0.8865 - loss: 0.4097 - val_accuracy: 0.8750 - val_loss: 0.3835\n",
            "Epoch 49/50\n",
            "\u001b[1m4/4\u001b[0m \u001b[32m━━━━━━━━━━━━━━━━━━━━\u001b[0m\u001b[37m\u001b[0m \u001b[1m0s\u001b[0m 14ms/step - accuracy: 0.8615 - loss: 0.4721 - val_accuracy: 0.8750 - val_loss: 0.3778\n",
            "Epoch 50/50\n",
            "\u001b[1m4/4\u001b[0m \u001b[32m━━━━━━━━━━━━━━━━━━━━\u001b[0m\u001b[37m\u001b[0m \u001b[1m0s\u001b[0m 14ms/step - accuracy: 0.8740 - loss: 0.4394 - val_accuracy: 0.8750 - val_loss: 0.3739\n",
            "\u001b[1m2/2\u001b[0m \u001b[32m━━━━━━━━━━━━━━━━━━━━\u001b[0m\u001b[37m\u001b[0m \u001b[1m0s\u001b[0m 9ms/step - accuracy: 0.7274 - loss: 0.8538  \n",
            "Test accuracy: 0.7317\n"
          ]
        }
      ]
    },
    {
      "cell_type": "code",
      "source": [
        "\n",
        "# Plot training & validation accuracy values\n",
        "plt.figure(figsize=(12, 6))\n",
        "\n",
        "plt.subplot(1, 2, 1)\n",
        "plt.plot(history.history['accuracy'], label='Train Accuracy')\n",
        "plt.plot(history.history['val_accuracy'], label='Validation Accuracy')\n",
        "plt.title('Model Accuracy')\n",
        "plt.xlabel('Epoch')\n",
        "plt.ylabel('Accuracy')\n",
        "plt.legend(loc='best')\n",
        "\n",
        "# Plot training & validation loss values\n",
        "plt.subplot(1, 2, 2)\n",
        "plt.plot(history.history['loss'], label='Train Loss')\n",
        "plt.plot(history.history['val_loss'], label='Validation Loss')\n",
        "plt.title('Model Loss')\n",
        "plt.xlabel('Epoch')\n",
        "plt.ylabel('Loss')\n",
        "plt.legend(loc='best')\n",
        "\n",
        "plt.tight_layout()\n",
        "plt.show()\n"
      ],
      "metadata": {
        "colab": {
          "base_uri": "https://localhost:8080/",
          "height": 536
        },
        "id": "uUjRSQgXdmGj",
        "outputId": "27cdb980-315f-479f-baac-ce8833dc9754"
      },
      "execution_count": null,
      "outputs": [
        {
          "output_type": "display_data",
          "data": {
            "text/plain": [
              "<Figure size 1200x600 with 2 Axes>"
            ],
            "image/png": "[encoded data removed]"
          },
          "metadata": {}
        }
      ]
    },
    {
      "cell_type": "code",
      "source": [],
      "metadata": {
        "id": "8hAaGw8pFhxY"
      },
      "execution_count": null,
      "outputs": []
    }
  ]
}